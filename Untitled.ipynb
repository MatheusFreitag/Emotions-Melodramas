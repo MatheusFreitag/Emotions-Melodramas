{
 "cells": [
  {
   "cell_type": "code",
   "execution_count": 9,
   "metadata": {},
   "outputs": [],
   "source": [
    "import pandas as pd\n",
    "import re\n",
    "from nltk.corpus import stopwords\n",
    "import os"
   ]
  },
  {
   "cell_type": "code",
   "execution_count": 31,
   "metadata": {},
   "outputs": [],
   "source": [
    "df_Lorde = pd.DataFrame(columns=['Álbum', 'Ano', 'Música', 'Corpus'])"
   ]
  },
  {
   "cell_type": "code",
   "execution_count": 32,
   "metadata": {},
   "outputs": [],
   "source": [
    "path = './data/Lorde/Melodrama_2017'\n",
    "for name_of_the_file in os.listdir(path):\n",
    "    with open(str(path) + '/' + name_of_the_file) as f:\n",
    "        file = f.read()\n",
    "        file = re.sub(r'\\[.*\\]', \"\", file)\n",
    "        file = list(filter(None, file.split('\\n')))\n",
    "        \n",
    "        location = df_Lorde.shape[0]\n",
    "        df_Lorde.loc[location, 'Álbum'] = 'Melodrama'\n",
    "        df_Lorde.loc[location, 'Ano'] = '2017'\n",
    "        df_Lorde.loc[location, 'Música'] = name_of_the_file[:-4]\n",
    "        df_Lorde.loc[location, 'Corpus'] = \" \".join(file)"
   ]
  },
  {
   "cell_type": "code",
   "execution_count": 39,
   "metadata": {},
   "outputs": [],
   "source": [
    "path = './data/Lorde/Pure Heroine (Extended)_2013/'\n",
    "for name_of_the_file in os.listdir(path):\n",
    "    with open(str(path) + name_of_the_file) as f:\n",
    "        file = f.read()\n",
    "        file = re.sub(r'\\[.*\\]', \"\", file)\n",
    "        file = list(filter(None, file.split('\\n')))\n",
    "        \n",
    "        location = df_Lorde.shape[0]\n",
    "        df_Lorde.loc[location, 'Álbum'] = 'Pure Heroine (Extended)'\n",
    "        df_Lorde.loc[location, 'Ano'] = '2017'\n",
    "        df_Lorde.loc[location, 'Música'] = name_of_the_file[:-4]\n",
    "        df_Lorde.loc[location, 'Corpus'] = \" \".join(file)"
   ]
  },
  {
   "cell_type": "code",
   "execution_count": null,
   "metadata": {},
   "outputs": [],
   "source": []
  },
  {
   "cell_type": "code",
   "execution_count": 44,
   "metadata": {},
   "outputs": [],
   "source": [
    "df_Lorde.to_csv('Lorde.tsv', sep='\\t')"
   ]
  },
  {
   "cell_type": "code",
   "execution_count": null,
   "metadata": {},
   "outputs": [],
   "source": []
  }
 ],
 "metadata": {
  "kernelspec": {
   "display_name": "Python 3",
   "language": "python",
   "name": "python3"
  },
  "language_info": {
   "codemirror_mode": {
    "name": "ipython",
    "version": 3
   },
   "file_extension": ".py",
   "mimetype": "text/x-python",
   "name": "python",
   "nbconvert_exporter": "python",
   "pygments_lexer": "ipython3",
   "version": "3.7.3"
  }
 },
 "nbformat": 4,
 "nbformat_minor": 2
}
